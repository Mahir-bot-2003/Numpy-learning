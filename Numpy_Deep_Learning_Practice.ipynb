{
 "cells": [
  {
   "cell_type": "markdown",
   "metadata": {},
   "source": [
    "# 📘 Mastering NumPy for Deep Learning (With Practice)\n",
    "Welcome to this hands-on NumPy tutorial crafted for deep learning students.\n",
    "By the end of this notebook, you'll be confident with NumPy operations used in ML & DL."
   ]
  },
  {
   "cell_type": "code",
   "execution_count": 2,
   "metadata": {},
   "outputs": [],
   "source": [
    "import numpy as np"
   ]
  },
  {
   "cell_type": "markdown",
   "metadata": {},
   "source": [
    "## 🔹 Section 1: NumPy Basics\n",
    "### Creating Arrays"
   ]
  },
  {
   "cell_type": "code",
   "execution_count": 2,
   "metadata": {},
   "outputs": [
    {
     "name": "stdout",
     "output_type": "stream",
     "text": [
      "1D array: [1 2 3]\n",
      "Zeros: [[0. 0. 0.]\n",
      " [0. 0. 0.]]\n",
      "Range: [0 2 4 6 8]\n",
      "Linspace: [ 1.    3.25  5.5   7.75 10.  ]\n"
     ]
    }
   ],
   "source": [
    "# 1D array\n",
    "arr1 = np.array([1, 2, 3])\n",
    "\n",
    "# Zeros, ones, arange, linspace\n",
    "zeros = np.zeros((2, 3))\n",
    "ones = np.ones((2, 2))\n",
    "range_array = np.arange(0, 10, 2)\n",
    "even_spaced = np.linspace(1, 10, 5)\n",
    "\n",
    "print(\"1D array:\", arr1)\n",
    "print(\"Zeros:\", zeros)\n",
    "print(\"Range:\", range_array)\n",
    "print(\"Linspace:\", even_spaced)"
   ]
  },
  {
   "cell_type": "markdown",
   "metadata": {},
   "source": [
    "### ✅ Practice:\n",
    "1. Create a 1D array of even numbers between 0 and 20.\n",
    "2. Create a 3x3 matrix of random integers between 1 and 10."
   ]
  },
  {
   "cell_type": "code",
   "execution_count": 4,
   "id": "0f064af6",
   "metadata": {},
   "outputs": [
    {
     "name": "stdout",
     "output_type": "stream",
     "text": [
      "[ 0  2  4  6  8 10 12 14 16 18 20]\n"
     ]
    }
   ],
   "source": [
    "ar1 = np.arange(0,21,2)\n",
    "print(ar1)"
   ]
  },
  {
   "cell_type": "code",
   "execution_count": 5,
   "id": "8afbeab2",
   "metadata": {},
   "outputs": [
    {
     "name": "stdout",
     "output_type": "stream",
     "text": [
      "[[0.09928909 0.99488119 0.33236226]\n",
      " [0.46185283 0.67530809 0.07569397]\n",
      " [0.36914311 0.01556948 0.1305063 ]]\n"
     ]
    }
   ],
   "source": [
    "ar1 = np.random.rand(3,3)\n",
    "print(ar1)"
   ]
  },
  {
   "cell_type": "markdown",
   "metadata": {},
   "source": [
    "## 🔹 Section 2: Shape and Reshape"
   ]
  },
  {
   "cell_type": "code",
   "execution_count": 6,
   "metadata": {},
   "outputs": [
    {
     "name": "stdout",
     "output_type": "stream",
     "text": [
      "Reshaped: [[1 2]\n",
      " [3 4]\n",
      " [5 6]\n",
      " [7 8]]\n",
      "Flattened: [1 2 3 4 5 6 7 8]\n",
      "Transposed: [[1 3 5 7]\n",
      " [2 4 6 8]]\n"
     ]
    }
   ],
   "source": [
    "# Reshape and flatten\n",
    "arr2 = np.arange(1, 9).reshape(4, 2)\n",
    "flat = arr2.flatten()\n",
    "transposed = arr2.T\n",
    "\n",
    "print(\"Reshaped:\", arr2)\n",
    "print(\"Flattened:\", flat)\n",
    "print(\"Transposed:\", transposed)"
   ]
  },
  {
   "cell_type": "markdown",
   "metadata": {},
   "source": [
    "### ✅ Practice:\n",
    "1. Reshape a 1D array into a 4x2 matrix.\n",
    "2. Flatten a 2D array and find its shape."
   ]
  },
  {
   "cell_type": "code",
   "execution_count": 16,
   "id": "ea5c2b81",
   "metadata": {},
   "outputs": [
    {
     "name": "stdout",
     "output_type": "stream",
     "text": [
      "[[ 0  2  4  6]\n",
      " [ 8 10 12 14]]\n",
      "FLATTERN:  [ 0  2  4  6  8 10 12 14]\n"
     ]
    }
   ],
   "source": [
    "arr2 = np.arange(0, 16, 2).reshape(2,4)\n",
    "print(arr2)\n",
    "\n",
    "flat = arr2.flatten()\n",
    "print(\"FLATTERN: \", flat)"
   ]
  },
  {
   "cell_type": "markdown",
   "metadata": {},
   "source": [
    "## 🔹 Section 3: Indexing, Slicing & Boolean Masking"
   ]
  },
  {
   "cell_type": "code",
   "execution_count": null,
   "metadata": {},
   "outputs": [
    {
     "name": "stdout",
     "output_type": "stream",
     "text": [
      "[[False  True  True]\n",
      " [False False  True]]\n",
      "Filtered values: [20 30 25]\n"
     ]
    }
   ],
   "source": [
    "# Boolean masking\n",
    "arr3 = np.array([[10, 20, 30], [5, 15, 25]])\n",
    "mask = arr3 > 15 #it is use to check each element whether its greater than 15 or not\n",
    "print(mask)\n",
    "filtered = arr3[mask]\n",
    "print(\"Filtered values:\", filtered)"
   ]
  },
  {
   "cell_type": "markdown",
   "metadata": {},
   "source": [
    "### ✅ Practice:\n",
    "1. Select all elements greater than 50 in a 5x5 random matrix.\n",
    "2. Replace all negative numbers in an array with 0."
   ]
  },
  {
   "cell_type": "code",
   "execution_count": null,
   "id": "d0afcb74",
   "metadata": {},
   "outputs": [
    {
     "name": "stdout",
     "output_type": "stream",
     "text": [
      "[[96.02384876 94.93767253 24.8874212  91.86574064 97.98830009]\n",
      " [45.86428908 56.31733485 64.98679273  5.43347681 56.75111883]\n",
      " [55.9115055  22.11815836 58.54872911 30.37898    34.11214019]\n",
      " [45.7640323  78.8132751  65.40496593 51.69703986 49.3091002 ]\n",
      " [38.0371076  97.74658497 69.39850825 82.87019885 61.58409181]]\n",
      "[96.02384876 94.93767253 91.86574064 97.98830009 56.31733485 64.98679273\n",
      " 56.75111883 55.9115055  58.54872911 78.8132751  65.40496593 51.69703986\n",
      " 97.74658497 69.39850825 82.87019885 61.58409181]\n"
     ]
    }
   ],
   "source": [
    "a = np.random.rand(5,5)*100\n",
    "print(a)\n",
    "mask = a > 50 \n",
    "filter = a[mask]\n",
    "print(filter)"
   ]
  },
  {
   "cell_type": "code",
   "execution_count": 21,
   "id": "5c75ffa3",
   "metadata": {},
   "outputs": [
    {
     "name": "stdout",
     "output_type": "stream",
     "text": [
      "[[91 73  0]\n",
      " [36 12 89]\n",
      " [ 0 95 65]]\n"
     ]
    }
   ],
   "source": [
    "arr = np.random.randint(-100, 101, size=(3, 3))\n",
    "arr[arr<0] = 0 \n",
    "print(arr)"
   ]
  },
  {
   "cell_type": "markdown",
   "metadata": {},
   "source": [
    "## 🔹 Section 4: Vectorized Operations & Broadcasting"
   ]
  },
  {
   "cell_type": "code",
   "execution_count": 3,
   "metadata": {},
   "outputs": [
    {
     "name": "stdout",
     "output_type": "stream",
     "text": [
      "Broadcasted Result: [[11 22]\n",
      " [13 24]]\n"
     ]
    }
   ],
   "source": [
    "# Broadcasting example\n",
    "matrix = np.array([[1, 2], [3, 4]])\n",
    "vector = np.array([10, 20])\n",
    "result = matrix + vector\n",
    "print(\"Broadcasted Result:\", result)"
   ]
  },
  {
   "cell_type": "markdown",
   "metadata": {},
   "source": [
    "### ✅ Practice:\n",
    "1. Add a vector to each row of a matrix.\n",
    "2. Multiply a 3x3 matrix by a scalar and compute the mean."
   ]
  },
  {
   "cell_type": "code",
   "execution_count": 8,
   "id": "6bf82472",
   "metadata": {},
   "outputs": [
    {
     "name": "stdout",
     "output_type": "stream",
     "text": [
      "[[44 30]\n",
      " [60 20]]\n",
      "[[44  0 84]\n",
      " [25 79 94]\n",
      " [19 95 98]]\n"
     ]
    }
   ],
   "source": [
    "matix = np.array([[4, 20], [20, 10]])\n",
    "vector = np.array([40,10])\n",
    "r = matix + vector\n",
    "print(r)\n",
    "\n",
    "arr = np.random.randint(0,100, size = (3,3))\n",
    "s = 10\n",
    "print(arr)"
   ]
  },
  {
   "cell_type": "markdown",
   "metadata": {},
   "source": [
    "## 🔹 Section 5: Aggregation and Stats"
   ]
  },
  {
   "cell_type": "code",
   "execution_count": 9,
   "metadata": {},
   "outputs": [
    {
     "name": "stdout",
     "output_type": "stream",
     "text": [
      "Array: [[84 64 63]\n",
      " [71 87 16]\n",
      " [94 74 23]]\n",
      "Mean: 64.0\n",
      "Std Dev: 25.74231276841043\n",
      "Max Index: 6\n"
     ]
    }
   ],
   "source": [
    "# Aggregation\n",
    "arr4 = np.random.randint(1, 100, (3, 3))\n",
    "print(\"Array:\", arr4)\n",
    "print(\"Mean:\", np.mean(arr4))\n",
    "print(\"Std Dev:\", np.std(arr4))\n",
    "print(\"Max Index:\", np.argmax(arr4))"
   ]
  },
  {
   "cell_type": "markdown",
   "metadata": {},
   "source": [
    "### ✅ Practice:\n",
    "1. Compute mean and standard deviation of a random array.\n",
    "2. Find the position of the minimum element in a matrix."
   ]
  },
  {
   "cell_type": "code",
   "execution_count": 13,
   "id": "61be05e7",
   "metadata": {},
   "outputs": [
    {
     "name": "stdout",
     "output_type": "stream",
     "text": [
      "8\n",
      "[[ 8 65 90]\n",
      " [33 83 13]\n",
      " [66 15 67]]\n",
      "48.888888888888886\n",
      "29.990533485842366\n"
     ]
    }
   ],
   "source": [
    "arr4 = np.random.randint(1, 100, (3, 3))\n",
    "print(np.min(arr4))\n",
    "print(arr4)\n",
    "print(np.mean(arr4))\n",
    "print(np.std(arr4))"
   ]
  },
  {
   "cell_type": "markdown",
   "metadata": {},
   "source": [
    "## 🔹 Section 6: Linear Algebra"
   ]
  },
  {
   "cell_type": "code",
   "execution_count": 14,
   "metadata": {},
   "outputs": [
    {
     "name": "stdout",
     "output_type": "stream",
     "text": [
      "Dot Product: [[19 22]\n",
      " [43 50]]\n",
      "Inverse of A: [[-2.   1. ]\n",
      " [ 1.5 -0.5]]\n",
      "Norm of A: 5.477225575051661\n"
     ]
    }
   ],
   "source": [
    "# Matrix multiplication\n",
    "A = np.array([[1, 2], [3, 4]])\n",
    "B = np.array([[5, 6], [7, 8]])\n",
    "product = np.dot(A, B)\n",
    "inv_A = np.linalg.inv(A)\n",
    "norm_A = np.linalg.norm(A)\n",
    "\n",
    "print(\"Dot Product:\", product)\n",
    "print(\"Inverse of A:\", inv_A)\n",
    "print(\"Norm of A:\", norm_A)"
   ]
  },
  {
   "cell_type": "markdown",
   "metadata": {},
   "source": [
    "### ✅ Practice:\n",
    "1. Compute the dot product of two 2D matrices.\n",
    "2. Check if a matrix is invertible and find its inverse."
   ]
  },
  {
   "cell_type": "code",
   "execution_count": 19,
   "id": "d7978739",
   "metadata": {},
   "outputs": [
    {
     "name": "stdout",
     "output_type": "stream",
     "text": [
      "Dot product:\n",
      " [[19 22]\n",
      " [43 50]]\n",
      "Determinant: 4.000000000000008\n",
      "Inverse of A:\n",
      " [[ 12.5   -5.5 ]\n",
      " [-10.75   4.75]]\n"
     ]
    }
   ],
   "source": [
    "import numpy as np\n",
    "\n",
    "A = np.array([[1, 2], [3, 4]])    # shape: (2, 2)\n",
    "B = np.array([[5, 6], [7, 8]])    # shape: (2, 2)\n",
    "\n",
    "dot = np.dot(A, B)\n",
    "print(\"Dot product:\\n\", dot)\n",
    "\n",
    "# to check whether the matrix is invertible or not its determinant should not be zero\n",
    "\n",
    "det = np.linalg.det(dot)\n",
    "print(\"Determinant:\", det)\n",
    "\n",
    "if det != 0:\n",
    "    inverse_A = np.linalg.inv(dot)\n",
    "    print(\"Inverse of A:\\n\", inverse_A)\n",
    "else:\n",
    "    print(\"Matrix is not invertible.\")\n"
   ]
  },
  {
   "cell_type": "markdown",
   "metadata": {},
   "source": [
    "## 🔹 Section 7: Deep Learning Prep (One-hot & Normalization)"
   ]
  },
  {
   "cell_type": "code",
   "execution_count": 20,
   "metadata": {},
   "outputs": [
    {
     "name": "stdout",
     "output_type": "stream",
     "text": [
      "One-hot: [[1. 0. 0.]\n",
      " [0. 1. 0.]\n",
      " [0. 0. 1.]\n",
      " [1. 0. 0.]]\n",
      "Normalized: [[-1.1022821   1.04285185 -0.03652189]\n",
      " [ 0.49878425  1.40868705  0.66256   ]\n",
      " [-0.72271557 -1.1236462   1.57586099]\n",
      " [ 1.46136601  0.02561943 -0.7338814 ]\n",
      " [-0.94353922 -1.29312463 -0.72001857]]\n"
     ]
    }
   ],
   "source": [
    "# One-hot encoding\n",
    "labels = np.array([0, 1, 2, 0])\n",
    "one_hot = np.eye(3)[labels]\n",
    "print(\"One-hot:\", one_hot)\n",
    "\n",
    "# Normalization\n",
    "data = np.random.rand(5, 3) * 100\n",
    "normalized = (data - np.mean(data)) / np.std(data)\n",
    "print(\"Normalized:\", normalized)"
   ]
  },
  {
   "cell_type": "markdown",
   "metadata": {},
   "source": [
    "### ✅ Practice:\n",
    "1. Normalize a dataset of 100 samples.\n",
    "2. Convert `[0, 1, 2, 0, 1]` to one-hot encoded format."
   ]
  },
  {
   "cell_type": "code",
   "execution_count": 22,
   "id": "904df776",
   "metadata": {},
   "outputs": [
    {
     "name": "stdout",
     "output_type": "stream",
     "text": [
      "Normalized dataset shape: (100, 5)\n",
      "First 5 normalized samples:\n",
      " [[-0.73683957 -0.55859839 -0.74812682 -0.88641744  0.29574559]\n",
      " [ 0.193725    0.83887417 -0.69136265  1.58763395  0.47331183]\n",
      " [-0.63700655  0.59130363  0.1952935   1.00529894 -0.75135883]\n",
      " [ 0.59613107 -1.49273005  0.50837909  1.32696521  0.88060391]\n",
      " [-0.50498026  0.27828197 -0.59386189  0.49751799  1.42568199]]\n",
      "One-hot encoded output:\n",
      " [[1. 0. 0.]\n",
      " [0. 1. 0.]\n",
      " [0. 0. 1.]\n",
      " [1. 0. 0.]\n",
      " [0. 1. 0.]]\n"
     ]
    }
   ],
   "source": [
    "data = np.random.rand(100, 5) * 100  \n",
    "\n",
    "mean = np.mean(data, axis=0)\n",
    "std = np.std(data, axis=0)\n",
    "normalized_data = (data - mean) / std\n",
    "\n",
    "print(\"Normalized dataset shape:\", normalized_data.shape)\n",
    "print(\"First 5 normalized samples:\\n\", normalized_data[:5])\n",
    "\n",
    "labels = np.array([0, 1, 2, 0, 1])\n",
    "one_hot = np.eye(3)[labels] \n",
    "\n",
    "print(\"One-hot encoded output:\\n\", one_hot)\n"
   ]
  }
 ],
 "metadata": {
  "kernelspec": {
   "display_name": "gpu_env",
   "language": "python",
   "name": "python3"
  },
  "language_info": {
   "codemirror_mode": {
    "name": "ipython",
    "version": 3
   },
   "file_extension": ".py",
   "mimetype": "text/x-python",
   "name": "python",
   "nbconvert_exporter": "python",
   "pygments_lexer": "ipython3",
   "version": "3.8.20"
  }
 },
 "nbformat": 4,
 "nbformat_minor": 5
}
